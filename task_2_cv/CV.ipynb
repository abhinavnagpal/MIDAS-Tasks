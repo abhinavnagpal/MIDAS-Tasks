{
 "cells": [
  {
   "cell_type": "markdown",
   "metadata": {},
   "source": [
    "<h1>Computer Vision Problem</h1>\n",
    "\n",
    "<h3>Instructions</h3>\n",
    "<ul>\n",
    "<li>This dataset has 4 classes. Labels for training data are provided, you have to submit labels of test data. Feel free to use any Machine learning or Deep learning technique.</li>\n",
    "<li>In the form, you would have to submit the CSV file of test labels. CSV file should be named as your_full_name.csv each row of this file should be the following:- Test_image_index, predicted class</li>    \n",
    "<li> Dataset folder has a sample submission file. Strictly follow that format(Follow the exact format. Make sure case and the name of headers are same. No extra index columns).Your GitHub repo should have code in Jupyter notebook.</li>    \n",
    "</ul>\n",
    "<hr />"
   ]
  },
  {
   "cell_type": "markdown",
   "metadata": {},
   "source": [
    "<h3>Solution</h3>\n",
    "<h4>I have used the following models for the CV task in the order listed below:</h4>\n",
    "<ul>\n",
    "    <li> Machine Learning Techniques </li>\n",
    "    <ul>\n",
    "        <li><b>KNN:</b> Used just for the sake of seeing the accuracy</li>\n",
    "        <li></li>\n",
    "        <li></li>\n",
    "    </ul>\n",
    "    <li> Deep Learning models </li>\n",
    "</ul>"
   ]
  },
  {
   "cell_type": "code",
   "execution_count": 5,
   "metadata": {},
   "outputs": [],
   "source": [
    "# Importing the necessary libraries for completing the task\n",
    "\n",
    "import numpy as np\n",
    "import pandas as pd\n",
    "import matplotlib.pyplot as plt\n",
    "from sklearn.neighbors import KNeighborsClassifier as knn\n",
    "import warnings \n",
    "%matplotlib inline\n",
    "\n",
    "warnings.filterwarnings('ignore')"
   ]
  },
  {
   "cell_type": "markdown",
   "metadata": {},
   "source": [
    "### Basic preprocessing on the dataset before any algorithm"
   ]
  },
  {
   "cell_type": "code",
   "execution_count": null,
   "metadata": {},
   "outputs": [],
   "source": [
    "data = pd"
   ]
  },
  {
   "cell_type": "markdown",
   "metadata": {},
   "source": [
    "#### Algorithm 1: K Nearest Neighbors"
   ]
  },
  {
   "cell_type": "code",
   "execution_count": null,
   "metadata": {},
   "outputs": [],
   "source": []
  }
 ],
 "metadata": {
  "kernelspec": {
   "display_name": "Python 3",
   "language": "python",
   "name": "python3"
  },
  "language_info": {
   "codemirror_mode": {
    "name": "ipython",
    "version": 3
   },
   "file_extension": ".py",
   "mimetype": "text/x-python",
   "name": "python",
   "nbconvert_exporter": "python",
   "pygments_lexer": "ipython3",
   "version": "3.6.5"
  }
 },
 "nbformat": 4,
 "nbformat_minor": 2
}
